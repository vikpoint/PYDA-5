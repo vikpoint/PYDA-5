{
 "cells": [
  {
   "cell_type": "code",
   "execution_count": 2,
   "metadata": {},
   "outputs": [],
   "source": [
    "#увеличим дефолтный размер графиков\n",
    "from pylab import rcParams\n",
    "rcParams['figure.figsize'] = 12,9\n",
    "\n",
    "# импортируем нужные библиотеки\n",
    "import pandas as pd\n",
    "import matplotlib.pyplot as plt"
   ]
  },
  {
   "cell_type": "markdown",
   "metadata": {},
   "source": [
    "* Country - Name of the country\n",
    "* Region - Region the country belongs to\n",
    "* Happiness Rank - Rank of the country based on the Happiness Score.\n",
    "* Happiness Score - A metric measured in 2016 by asking the sampled people the question: \"How would you rate your happiness on a scale of 0 to 10 where 10 is the happiest\"\n",
    "* Lower Confidence Interval - Lower Confidence Interval of the Happiness Score\n",
    "* Upper Confidence Interval - Upper Confidence Interval of the Happiness Score\n",
    "* Economy (GDP per Capita) - The extent to which GDP contributes to the calculation of the Happiness Score.\n",
    "* Family - The extent to which Family contributes to the calculation of the Happiness Score\n",
    "* Health (Life Expectancy) - The extent to which Life expectancy contributed to the calculation of the Happiness Score\n",
    "* Freedom - The extent to which Freedom contributed to the calculation of the Happiness Score\n",
    "* Trust (Government Corruption) - The extent to which Perception of Corruption contributes to Happiness Score\n",
    "* Generosity - The extent to which Generosity contributed to the calculation of the Happiness Score\n",
    "* Dystopia Residual - The extent to which Dystopia Residual contributed to the calculation of the Happiness Score."
   ]
  },
  {
   "cell_type": "code",
   "execution_count": 197,
   "metadata": {
    "scrolled": false
   },
   "outputs": [
    {
     "data": {
      "text/html": [
       "<div>\n",
       "<style scoped>\n",
       "    .dataframe tbody tr th:only-of-type {\n",
       "        vertical-align: middle;\n",
       "    }\n",
       "\n",
       "    .dataframe tbody tr th {\n",
       "        vertical-align: top;\n",
       "    }\n",
       "\n",
       "    .dataframe thead th {\n",
       "        text-align: right;\n",
       "    }\n",
       "</style>\n",
       "<table border=\"1\" class=\"dataframe\">\n",
       "  <thead>\n",
       "    <tr style=\"text-align: right;\">\n",
       "      <th></th>\n",
       "      <th>Country</th>\n",
       "      <th>Region</th>\n",
       "      <th>Happiness Rank</th>\n",
       "      <th>Happiness Score</th>\n",
       "      <th>Lower Confidence Interval</th>\n",
       "      <th>Upper Confidence Interval</th>\n",
       "      <th>Economy (GDP per Capita)</th>\n",
       "      <th>Family</th>\n",
       "      <th>Health (Life Expectancy)</th>\n",
       "      <th>Freedom</th>\n",
       "      <th>Trust (Government Corruption)</th>\n",
       "      <th>Generosity</th>\n",
       "      <th>Dystopia Residual</th>\n",
       "    </tr>\n",
       "  </thead>\n",
       "  <tbody>\n",
       "    <tr>\n",
       "      <th>0</th>\n",
       "      <td>Denmark</td>\n",
       "      <td>Western Europe</td>\n",
       "      <td>1</td>\n",
       "      <td>7.526</td>\n",
       "      <td>7.460</td>\n",
       "      <td>7.592</td>\n",
       "      <td>1.44178</td>\n",
       "      <td>1.16374</td>\n",
       "      <td>0.79504</td>\n",
       "      <td>0.57941</td>\n",
       "      <td>0.44453</td>\n",
       "      <td>0.36171</td>\n",
       "      <td>2.73939</td>\n",
       "    </tr>\n",
       "    <tr>\n",
       "      <th>1</th>\n",
       "      <td>Switzerland</td>\n",
       "      <td>Western Europe</td>\n",
       "      <td>2</td>\n",
       "      <td>7.509</td>\n",
       "      <td>7.428</td>\n",
       "      <td>7.590</td>\n",
       "      <td>1.52733</td>\n",
       "      <td>1.14524</td>\n",
       "      <td>0.86303</td>\n",
       "      <td>0.58557</td>\n",
       "      <td>0.41203</td>\n",
       "      <td>0.28083</td>\n",
       "      <td>2.69463</td>\n",
       "    </tr>\n",
       "    <tr>\n",
       "      <th>2</th>\n",
       "      <td>Iceland</td>\n",
       "      <td>Western Europe</td>\n",
       "      <td>3</td>\n",
       "      <td>7.501</td>\n",
       "      <td>7.333</td>\n",
       "      <td>7.669</td>\n",
       "      <td>1.42666</td>\n",
       "      <td>1.18326</td>\n",
       "      <td>0.86733</td>\n",
       "      <td>0.56624</td>\n",
       "      <td>0.14975</td>\n",
       "      <td>0.47678</td>\n",
       "      <td>2.83137</td>\n",
       "    </tr>\n",
       "    <tr>\n",
       "      <th>3</th>\n",
       "      <td>Norway</td>\n",
       "      <td>Western Europe</td>\n",
       "      <td>4</td>\n",
       "      <td>7.498</td>\n",
       "      <td>7.421</td>\n",
       "      <td>7.575</td>\n",
       "      <td>1.57744</td>\n",
       "      <td>1.12690</td>\n",
       "      <td>0.79579</td>\n",
       "      <td>0.59609</td>\n",
       "      <td>0.35776</td>\n",
       "      <td>0.37895</td>\n",
       "      <td>2.66465</td>\n",
       "    </tr>\n",
       "    <tr>\n",
       "      <th>4</th>\n",
       "      <td>Finland</td>\n",
       "      <td>Western Europe</td>\n",
       "      <td>5</td>\n",
       "      <td>7.413</td>\n",
       "      <td>7.351</td>\n",
       "      <td>7.475</td>\n",
       "      <td>1.40598</td>\n",
       "      <td>1.13464</td>\n",
       "      <td>0.81091</td>\n",
       "      <td>0.57104</td>\n",
       "      <td>0.41004</td>\n",
       "      <td>0.25492</td>\n",
       "      <td>2.82596</td>\n",
       "    </tr>\n",
       "  </tbody>\n",
       "</table>\n",
       "</div>"
      ],
      "text/plain": [
       "       Country          Region  Happiness Rank  Happiness Score  \\\n",
       "0      Denmark  Western Europe               1            7.526   \n",
       "1  Switzerland  Western Europe               2            7.509   \n",
       "2      Iceland  Western Europe               3            7.501   \n",
       "3       Norway  Western Europe               4            7.498   \n",
       "4      Finland  Western Europe               5            7.413   \n",
       "\n",
       "   Lower Confidence Interval  Upper Confidence Interval  \\\n",
       "0                      7.460                      7.592   \n",
       "1                      7.428                      7.590   \n",
       "2                      7.333                      7.669   \n",
       "3                      7.421                      7.575   \n",
       "4                      7.351                      7.475   \n",
       "\n",
       "   Economy (GDP per Capita)   Family  Health (Life Expectancy)  Freedom  \\\n",
       "0                   1.44178  1.16374                   0.79504  0.57941   \n",
       "1                   1.52733  1.14524                   0.86303  0.58557   \n",
       "2                   1.42666  1.18326                   0.86733  0.56624   \n",
       "3                   1.57744  1.12690                   0.79579  0.59609   \n",
       "4                   1.40598  1.13464                   0.81091  0.57104   \n",
       "\n",
       "   Trust (Government Corruption)  Generosity  Dystopia Residual  \n",
       "0                        0.44453     0.36171            2.73939  \n",
       "1                        0.41203     0.28083            2.69463  \n",
       "2                        0.14975     0.47678            2.83137  \n",
       "3                        0.35776     0.37895            2.66465  \n",
       "4                        0.41004     0.25492            2.82596  "
      ]
     },
     "execution_count": 197,
     "metadata": {},
     "output_type": "execute_result"
    }
   ],
   "source": [
    "data = pd.read_csv('The_World_Happiness_Report_2016.csv')\n",
    "data.head()"
   ]
  },
  {
   "cell_type": "code",
   "execution_count": 4,
   "metadata": {
    "scrolled": false
   },
   "outputs": [
    {
     "data": {
      "text/html": [
       "<div>\n",
       "<style scoped>\n",
       "    .dataframe tbody tr th:only-of-type {\n",
       "        vertical-align: middle;\n",
       "    }\n",
       "\n",
       "    .dataframe tbody tr th {\n",
       "        vertical-align: top;\n",
       "    }\n",
       "\n",
       "    .dataframe thead th {\n",
       "        text-align: right;\n",
       "    }\n",
       "</style>\n",
       "<table border=\"1\" class=\"dataframe\">\n",
       "  <thead>\n",
       "    <tr style=\"text-align: right;\">\n",
       "      <th></th>\n",
       "      <th>Region</th>\n",
       "      <th>Happiness Rank</th>\n",
       "      <th>Happiness Score</th>\n",
       "      <th>Lower Confidence Interval</th>\n",
       "      <th>Upper Confidence Interval</th>\n",
       "      <th>Economy (GDP per Capita)</th>\n",
       "      <th>Family</th>\n",
       "      <th>Health (Life Expectancy)</th>\n",
       "      <th>Freedom</th>\n",
       "      <th>Trust (Government Corruption)</th>\n",
       "      <th>Generosity</th>\n",
       "      <th>Dystopia Residual</th>\n",
       "    </tr>\n",
       "  </thead>\n",
       "  <tbody>\n",
       "    <tr>\n",
       "      <th>0</th>\n",
       "      <td>Australia and New Zealand</td>\n",
       "      <td>8.500000</td>\n",
       "      <td>7.323500</td>\n",
       "      <td>7.252500</td>\n",
       "      <td>7.394500</td>\n",
       "      <td>1.402545</td>\n",
       "      <td>1.138770</td>\n",
       "      <td>0.841080</td>\n",
       "      <td>0.574920</td>\n",
       "      <td>0.371175</td>\n",
       "      <td>0.484040</td>\n",
       "      <td>2.511015</td>\n",
       "    </tr>\n",
       "    <tr>\n",
       "      <th>1</th>\n",
       "      <td>North America</td>\n",
       "      <td>9.500000</td>\n",
       "      <td>7.254000</td>\n",
       "      <td>7.177500</td>\n",
       "      <td>7.330500</td>\n",
       "      <td>1.474055</td>\n",
       "      <td>1.071960</td>\n",
       "      <td>0.803300</td>\n",
       "      <td>0.527665</td>\n",
       "      <td>0.230985</td>\n",
       "      <td>0.429555</td>\n",
       "      <td>2.716335</td>\n",
       "    </tr>\n",
       "    <tr>\n",
       "      <th>2</th>\n",
       "      <td>Western Europe</td>\n",
       "      <td>29.190476</td>\n",
       "      <td>6.685667</td>\n",
       "      <td>6.604571</td>\n",
       "      <td>6.766762</td>\n",
       "      <td>1.417056</td>\n",
       "      <td>1.042452</td>\n",
       "      <td>0.825754</td>\n",
       "      <td>0.477587</td>\n",
       "      <td>0.232544</td>\n",
       "      <td>0.304715</td>\n",
       "      <td>2.385576</td>\n",
       "    </tr>\n",
       "    <tr>\n",
       "      <th>3</th>\n",
       "      <td>Latin America and Caribbean</td>\n",
       "      <td>48.333333</td>\n",
       "      <td>6.101750</td>\n",
       "      <td>5.976750</td>\n",
       "      <td>6.226750</td>\n",
       "      <td>0.993410</td>\n",
       "      <td>0.898432</td>\n",
       "      <td>0.612703</td>\n",
       "      <td>0.426646</td>\n",
       "      <td>0.106016</td>\n",
       "      <td>0.208428</td>\n",
       "      <td>2.856078</td>\n",
       "    </tr>\n",
       "    <tr>\n",
       "      <th>4</th>\n",
       "      <td>Eastern Asia</td>\n",
       "      <td>67.166667</td>\n",
       "      <td>5.624167</td>\n",
       "      <td>5.550167</td>\n",
       "      <td>5.698167</td>\n",
       "      <td>1.277312</td>\n",
       "      <td>0.910428</td>\n",
       "      <td>0.806680</td>\n",
       "      <td>0.387282</td>\n",
       "      <td>0.118347</td>\n",
       "      <td>0.223563</td>\n",
       "      <td>1.900682</td>\n",
       "    </tr>\n",
       "    <tr>\n",
       "      <th>5</th>\n",
       "      <td>Middle East and Northern Africa</td>\n",
       "      <td>78.105263</td>\n",
       "      <td>5.386053</td>\n",
       "      <td>5.274895</td>\n",
       "      <td>5.497211</td>\n",
       "      <td>1.139323</td>\n",
       "      <td>0.695644</td>\n",
       "      <td>0.616438</td>\n",
       "      <td>0.309769</td>\n",
       "      <td>0.161526</td>\n",
       "      <td>0.186749</td>\n",
       "      <td>2.276677</td>\n",
       "    </tr>\n",
       "    <tr>\n",
       "      <th>6</th>\n",
       "      <td>Central and Eastern Europe</td>\n",
       "      <td>78.448276</td>\n",
       "      <td>5.370690</td>\n",
       "      <td>5.283690</td>\n",
       "      <td>5.457690</td>\n",
       "      <td>1.047537</td>\n",
       "      <td>0.861855</td>\n",
       "      <td>0.631592</td>\n",
       "      <td>0.300528</td>\n",
       "      <td>0.088072</td>\n",
       "      <td>0.170898</td>\n",
       "      <td>2.270222</td>\n",
       "    </tr>\n",
       "    <tr>\n",
       "      <th>7</th>\n",
       "      <td>Southeastern Asia</td>\n",
       "      <td>80.000000</td>\n",
       "      <td>5.338889</td>\n",
       "      <td>5.249556</td>\n",
       "      <td>5.428222</td>\n",
       "      <td>0.896381</td>\n",
       "      <td>0.791756</td>\n",
       "      <td>0.561369</td>\n",
       "      <td>0.490123</td>\n",
       "      <td>0.148104</td>\n",
       "      <td>0.446150</td>\n",
       "      <td>2.004910</td>\n",
       "    </tr>\n",
       "    <tr>\n",
       "      <th>8</th>\n",
       "      <td>Southern Asia</td>\n",
       "      <td>111.714286</td>\n",
       "      <td>4.563286</td>\n",
       "      <td>4.485000</td>\n",
       "      <td>4.641571</td>\n",
       "      <td>0.660671</td>\n",
       "      <td>0.480694</td>\n",
       "      <td>0.453670</td>\n",
       "      <td>0.350026</td>\n",
       "      <td>0.104899</td>\n",
       "      <td>0.343281</td>\n",
       "      <td>2.170101</td>\n",
       "    </tr>\n",
       "    <tr>\n",
       "      <th>9</th>\n",
       "      <td>Sub-Saharan Africa</td>\n",
       "      <td>129.657895</td>\n",
       "      <td>4.136421</td>\n",
       "      <td>4.024895</td>\n",
       "      <td>4.247947</td>\n",
       "      <td>0.474321</td>\n",
       "      <td>0.593656</td>\n",
       "      <td>0.239872</td>\n",
       "      <td>0.315424</td>\n",
       "      <td>0.120379</td>\n",
       "      <td>0.226348</td>\n",
       "      <td>2.166359</td>\n",
       "    </tr>\n",
       "  </tbody>\n",
       "</table>\n",
       "</div>"
      ],
      "text/plain": [
       "                            Region  Happiness Rank  Happiness Score  \\\n",
       "0        Australia and New Zealand        8.500000         7.323500   \n",
       "1                    North America        9.500000         7.254000   \n",
       "2                   Western Europe       29.190476         6.685667   \n",
       "3      Latin America and Caribbean       48.333333         6.101750   \n",
       "4                     Eastern Asia       67.166667         5.624167   \n",
       "5  Middle East and Northern Africa       78.105263         5.386053   \n",
       "6       Central and Eastern Europe       78.448276         5.370690   \n",
       "7                Southeastern Asia       80.000000         5.338889   \n",
       "8                    Southern Asia      111.714286         4.563286   \n",
       "9               Sub-Saharan Africa      129.657895         4.136421   \n",
       "\n",
       "   Lower Confidence Interval  Upper Confidence Interval  \\\n",
       "0                   7.252500                   7.394500   \n",
       "1                   7.177500                   7.330500   \n",
       "2                   6.604571                   6.766762   \n",
       "3                   5.976750                   6.226750   \n",
       "4                   5.550167                   5.698167   \n",
       "5                   5.274895                   5.497211   \n",
       "6                   5.283690                   5.457690   \n",
       "7                   5.249556                   5.428222   \n",
       "8                   4.485000                   4.641571   \n",
       "9                   4.024895                   4.247947   \n",
       "\n",
       "   Economy (GDP per Capita)    Family  Health (Life Expectancy)   Freedom  \\\n",
       "0                  1.402545  1.138770                  0.841080  0.574920   \n",
       "1                  1.474055  1.071960                  0.803300  0.527665   \n",
       "2                  1.417056  1.042452                  0.825754  0.477587   \n",
       "3                  0.993410  0.898432                  0.612703  0.426646   \n",
       "4                  1.277312  0.910428                  0.806680  0.387282   \n",
       "5                  1.139323  0.695644                  0.616438  0.309769   \n",
       "6                  1.047537  0.861855                  0.631592  0.300528   \n",
       "7                  0.896381  0.791756                  0.561369  0.490123   \n",
       "8                  0.660671  0.480694                  0.453670  0.350026   \n",
       "9                  0.474321  0.593656                  0.239872  0.315424   \n",
       "\n",
       "   Trust (Government Corruption)  Generosity  Dystopia Residual  \n",
       "0                       0.371175    0.484040           2.511015  \n",
       "1                       0.230985    0.429555           2.716335  \n",
       "2                       0.232544    0.304715           2.385576  \n",
       "3                       0.106016    0.208428           2.856078  \n",
       "4                       0.118347    0.223563           1.900682  \n",
       "5                       0.161526    0.186749           2.276677  \n",
       "6                       0.088072    0.170898           2.270222  \n",
       "7                       0.148104    0.446150           2.004910  \n",
       "8                       0.104899    0.343281           2.170101  \n",
       "9                       0.120379    0.226348           2.166359  "
      ]
     },
     "execution_count": 4,
     "metadata": {},
     "output_type": "execute_result"
    }
   ],
   "source": [
    "happines_for_region = data.groupby('Region').mean().sort_values('Happiness Score', ascending=False).reset_index()\n",
    "happines_for_region"
   ]
  },
  {
   "cell_type": "code",
   "execution_count": 5,
   "metadata": {
    "scrolled": true
   },
   "outputs": [
    {
     "data": {
      "text/plain": [
       "Text(0.5, 1.0, 'Mean Happiness Score by Region')"
      ]
     },
     "execution_count": 5,
     "metadata": {},
     "output_type": "execute_result"
    },
    {
     "data": {
      "image/png": "[encoded data removed]",
      "text/plain": [
       "<Figure size 432x288 with 1 Axes>"
      ]
     },
     "metadata": {
      "needs_background": "light"
     },
     "output_type": "display_data"
    }
   ],
   "source": [
    "plt.barh(happines_for_region['Region'], happines_for_region['Happiness Score'])\n",
    "plt.ylabel('Region')\n",
    "plt.xlabel('Mean Happiness Score')\n",
    "plt.title('Mean Happiness Score by Region')"
   ]
  },
  {
   "cell_type": "markdown",
   "metadata": {},
   "source": [
    "#### Гипотезы:\n",
    "Наибольший уровень счастья у регионов Австралии с Новой Зеландией и Северной Америки. Возможно небольшое количество стран в этом регионе дает определенное влияние на результат.\n",
    "\n",
    "Удивительным оказалось более высокое положение Ближнего востока и Севреной Африки над Центральной и восточной Европой."
   ]
  },
  {
   "cell_type": "code",
   "execution_count": 184,
   "metadata": {
    "scrolled": false
   },
   "outputs": [
    {
     "data": {
      "text/plain": [
       "<matplotlib.legend.Legend at 0x21a5d6a4748>"
      ]
     },
     "execution_count": 184,
     "metadata": {},
     "output_type": "execute_result"
    },
    {
     "data": {
      "image/png": "[encoded data removed]",
      "text/plain": [
       "<Figure size 432x288 with 1 Axes>"
      ]
     },
     "metadata": {
      "needs_background": "light"
     },
     "output_type": "display_data"
    }
   ],
   "source": [
    "cumulate_plot = happines_for_region[['Region', 'Economy (GDP per Capita)', 'Family',\n",
    "                                     'Health (Life Expectancy)', 'Freedom', \n",
    "                                     'Trust (Government Corruption)', 'Generosity', 'Dystopia Residual']]\n",
    "\n",
    "cumulate_for_plot = cumulate_plot.set_index('Region')\n",
    "\n",
    "cumulate_for_plot.plot(kind='bar', rot=90, stacked=True)\\\n",
    "    .legend(loc='center left', bbox_to_anchor=(1.1, 0.5), shadow=True, ncol=2)"
   ]
  },
  {
   "cell_type": "markdown",
   "metadata": {},
   "source": [
    "#### Некоторые выводы:\n",
    "Можно заметить, что хотя регион Латинская Америка и Карибы имеет неплохой общий рейтинг доверие к правительству у ние довольно низкое."
   ]
  },
  {
   "cell_type": "code",
   "execution_count": 194,
   "metadata": {},
   "outputs": [
    {
     "data": {
      "text/plain": [
       "<matplotlib.axes._subplots.AxesSubplot at 0x21a5f283630>"
      ]
     },
     "execution_count": 194,
     "metadata": {},
     "output_type": "execute_result"
    },
    {
     "data": {
      "image/png": "[encoded data removed]",
      "text/plain": [
       "<Figure size 432x288 with 1 Axes>"
      ]
     },
     "metadata": {
      "needs_background": "light"
     },
     "output_type": "display_data"
    }
   ],
   "source": [
    "first_and_russia = data[ (data['Country']=='Denmark') | (data['Country']=='Russia') ]\n",
    "\n",
    "first_and_russia.set_index('Country', inplace=True)\n",
    "\n",
    "first_and_russia1 = first_and_russia.T\n",
    "\n",
    "first_and_russia1.drop(['Happiness Rank', 'Happiness Score', 'Lower Confidence Interval',\n",
    "                        'Upper Confidence Interval', 'Region'], inplace=True)\n",
    "#first_and_russia1\n",
    "first_and_russia1.plot(kind='bar')"
   ]
  },
  {
   "cell_type": "markdown",
   "metadata": {},
   "source": [
    "#### Некоторые выводы:\n",
    "Основной недобор России в рейтенге счастья по отношению к лидеру выходит из доверия к правительству, великодушия."
   ]
  },
  {
   "cell_type": "markdown",
   "metadata": {},
   "source": [
    "------  \n",
    "*анализ с содедями по рейтингу отложен*"
   ]
  },
  {
   "cell_type": "code",
   "execution_count": 230,
   "metadata": {
    "scrolled": false
   },
   "outputs": [
    {
     "data": {
      "text/plain": [
       "<matplotlib.axes._subplots.AxesSubplot at 0x21a5f847f60>"
      ]
     },
     "execution_count": 230,
     "metadata": {},
     "output_type": "execute_result"
    },
    {
     "data": {
      "image/png": "[encoded data removed]",
      "text/plain": [
       "<Figure size 432x288 with 1 Axes>"
      ]
     },
     "metadata": {
      "needs_background": "light"
     },
     "output_type": "display_data"
    }
   ],
   "source": [
    "russia_and_neighbour = data.loc[data['Happiness Rank'].isin([56, 57])]\n",
    "\n",
    "russia_and_neighbour.set_index('Country', inplace=True)\n",
    "\n",
    "russia_and_neighbour1 = russia_and_neighbour.T\n",
    "\n",
    "russia_and_neighbour1.drop(['Happiness Rank', 'Happiness Score', 'Lower Confidence Interval',\n",
    "                        'Upper Confidence Interval', 'Region'], inplace=True)\n",
    "russia_and_neighbour1\n",
    "russia_and_neighbour1.plot(kind='bar')"
   ]
  },
  {
   "cell_type": "markdown",
   "metadata": {},
   "source": [
    "-----"
   ]
  },
  {
   "cell_type": "code",
   "execution_count": 162,
   "metadata": {
    "scrolled": true
   },
   "outputs": [
    {
     "data": {
      "text/html": [
       "<style  type=\"text/css\" >\n",
       "    #T_a52ae02c_d877_11e9_af66_000000000003row0_col0 {\n",
       "            width:  10em;\n",
       "             height:  80%;\n",
       "        }    #T_a52ae02c_d877_11e9_af66_000000000003row1_col0 {\n",
       "            width:  10em;\n",
       "             height:  80%;\n",
       "        }    #T_a52ae02c_d877_11e9_af66_000000000003row2_col0 {\n",
       "            width:  10em;\n",
       "             height:  80%;\n",
       "            background:  linear-gradient(90deg,#d65f5f 11.1%, transparent 11.1%);\n",
       "        }    #T_a52ae02c_d877_11e9_af66_000000000003row3_col0 {\n",
       "            width:  10em;\n",
       "             height:  80%;\n",
       "            background:  linear-gradient(90deg,#d65f5f 13.9%, transparent 13.9%);\n",
       "        }    #T_a52ae02c_d877_11e9_af66_000000000003row4_col0 {\n",
       "            width:  10em;\n",
       "             height:  80%;\n",
       "            background:  linear-gradient(90deg,#d65f5f 19.4%, transparent 19.4%);\n",
       "        }    #T_a52ae02c_d877_11e9_af66_000000000003row5_col0 {\n",
       "            width:  10em;\n",
       "             height:  80%;\n",
       "            background:  linear-gradient(90deg,#d65f5f 47.2%, transparent 47.2%);\n",
       "        }    #T_a52ae02c_d877_11e9_af66_000000000003row6_col0 {\n",
       "            width:  10em;\n",
       "             height:  80%;\n",
       "            background:  linear-gradient(90deg,#d65f5f 52.8%, transparent 52.8%);\n",
       "        }    #T_a52ae02c_d877_11e9_af66_000000000003row7_col0 {\n",
       "            width:  10em;\n",
       "             height:  80%;\n",
       "            background:  linear-gradient(90deg,#d65f5f 61.1%, transparent 61.1%);\n",
       "        }    #T_a52ae02c_d877_11e9_af66_000000000003row8_col0 {\n",
       "            width:  10em;\n",
       "             height:  80%;\n",
       "            background:  linear-gradient(90deg,#d65f5f 75.0%, transparent 75.0%);\n",
       "        }    #T_a52ae02c_d877_11e9_af66_000000000003row9_col0 {\n",
       "            width:  10em;\n",
       "             height:  80%;\n",
       "            background:  linear-gradient(90deg,#d65f5f 100.0%, transparent 100.0%);\n",
       "        }</style><table id=\"T_a52ae02c_d877_11e9_af66_000000000003\" ><thead>    <tr>        <th class=\"blank level0\" ></th>        <th class=\"col_heading level0 col0\" >Number of Country</th>    </tr>    <tr>        <th class=\"index_name level0\" >Region</th>        <th class=\"blank\" ></th>    </tr></thead><tbody>\n",
       "                <tr>\n",
       "                        <th id=\"T_a52ae02c_d877_11e9_af66_000000000003level0_row0\" class=\"row_heading level0 row0\" >Australia and New Zealand</th>\n",
       "                        <td id=\"T_a52ae02c_d877_11e9_af66_000000000003row0_col0\" class=\"data row0 col0\" >2</td>\n",
       "            </tr>\n",
       "            <tr>\n",
       "                        <th id=\"T_a52ae02c_d877_11e9_af66_000000000003level0_row1\" class=\"row_heading level0 row1\" >North America</th>\n",
       "                        <td id=\"T_a52ae02c_d877_11e9_af66_000000000003row1_col0\" class=\"data row1 col0\" >2</td>\n",
       "            </tr>\n",
       "            <tr>\n",
       "                        <th id=\"T_a52ae02c_d877_11e9_af66_000000000003level0_row2\" class=\"row_heading level0 row2\" >Eastern Asia</th>\n",
       "                        <td id=\"T_a52ae02c_d877_11e9_af66_000000000003row2_col0\" class=\"data row2 col0\" >6</td>\n",
       "            </tr>\n",
       "            <tr>\n",
       "                        <th id=\"T_a52ae02c_d877_11e9_af66_000000000003level0_row3\" class=\"row_heading level0 row3\" >Southern Asia</th>\n",
       "                        <td id=\"T_a52ae02c_d877_11e9_af66_000000000003row3_col0\" class=\"data row3 col0\" >7</td>\n",
       "            </tr>\n",
       "            <tr>\n",
       "                        <th id=\"T_a52ae02c_d877_11e9_af66_000000000003level0_row4\" class=\"row_heading level0 row4\" >Southeastern Asia</th>\n",
       "                        <td id=\"T_a52ae02c_d877_11e9_af66_000000000003row4_col0\" class=\"data row4 col0\" >9</td>\n",
       "            </tr>\n",
       "            <tr>\n",
       "                        <th id=\"T_a52ae02c_d877_11e9_af66_000000000003level0_row5\" class=\"row_heading level0 row5\" >Middle East and Northern Africa</th>\n",
       "                        <td id=\"T_a52ae02c_d877_11e9_af66_000000000003row5_col0\" class=\"data row5 col0\" >19</td>\n",
       "            </tr>\n",
       "            <tr>\n",
       "                        <th id=\"T_a52ae02c_d877_11e9_af66_000000000003level0_row6\" class=\"row_heading level0 row6\" >Western Europe</th>\n",
       "                        <td id=\"T_a52ae02c_d877_11e9_af66_000000000003row6_col0\" class=\"data row6 col0\" >21</td>\n",
       "            </tr>\n",
       "            <tr>\n",
       "                        <th id=\"T_a52ae02c_d877_11e9_af66_000000000003level0_row7\" class=\"row_heading level0 row7\" >Latin America and Caribbean</th>\n",
       "                        <td id=\"T_a52ae02c_d877_11e9_af66_000000000003row7_col0\" class=\"data row7 col0\" >24</td>\n",
       "            </tr>\n",
       "            <tr>\n",
       "                        <th id=\"T_a52ae02c_d877_11e9_af66_000000000003level0_row8\" class=\"row_heading level0 row8\" >Central and Eastern Europe</th>\n",
       "                        <td id=\"T_a52ae02c_d877_11e9_af66_000000000003row8_col0\" class=\"data row8 col0\" >29</td>\n",
       "            </tr>\n",
       "            <tr>\n",
       "                        <th id=\"T_a52ae02c_d877_11e9_af66_000000000003level0_row9\" class=\"row_heading level0 row9\" >Sub-Saharan Africa</th>\n",
       "                        <td id=\"T_a52ae02c_d877_11e9_af66_000000000003row9_col0\" class=\"data row9 col0\" >38</td>\n",
       "            </tr>\n",
       "    </tbody></table>"
      ],
      "text/plain": [
       "<pandas.io.formats.style.Styler at 0x21a5df93f98>"
      ]
     },
     "execution_count": 162,
     "metadata": {},
     "output_type": "execute_result"
    }
   ],
   "source": [
    "count_country = data[['Region', 'Freedom']].groupby('Region').count()\n",
    "count_country.rename({'Freedom': 'Number of Country'}, axis='columns', inplace=True)\n",
    "sort_countres = count_country.sort_values('Number of Country', ascending=True)\n",
    "sort_countres.style.bar()"
   ]
  },
  {
   "cell_type": "markdown",
   "metadata": {},
   "source": [
    "Количество стран в каждом из Регионов"
   ]
  },
  {
   "cell_type": "code",
   "execution_count": 8,
   "metadata": {},
   "outputs": [],
   "source": [
    "import seaborn as sns"
   ]
  },
  {
   "cell_type": "code",
   "execution_count": 9,
   "metadata": {},
   "outputs": [
    {
     "data": {
      "text/plain": [
       "<seaborn.axisgrid.PairGrid at 0x21a565e7048>"
      ]
     },
     "execution_count": 9,
     "metadata": {},
     "output_type": "execute_result"
    },
    {
     "data": {
      "image/png": "[encoded data removed]",
      "text/plain": [
       "<Figure size 360x360 with 6 Axes>"
      ]
     },
     "metadata": {
      "needs_background": "light"
     },
     "output_type": "display_data"
    }
   ],
   "source": [
    "df_for_sns_plot = happines_for_region.merge(count_country, on='Region', how='left' )\n",
    "         \n",
    "sns_plot = sns.pairplot(df_for_sns_plot[['Happiness Score', 'Number of Country']])\n",
    "sns_plot"
   ]
  },
  {
   "cell_type": "code",
   "execution_count": 10,
   "metadata": {},
   "outputs": [
    {
     "data": {
      "text/plain": [
       "<seaborn.axisgrid.JointGrid at 0x21a5680de80>"
      ]
     },
     "execution_count": 10,
     "metadata": {},
     "output_type": "execute_result"
    },
    {
     "data": {
      "image/png": "[encoded data removed]",
      "text/plain": [
       "<Figure size 432x432 with 3 Axes>"
      ]
     },
     "metadata": {
      "needs_background": "light"
     },
     "output_type": "display_data"
    }
   ],
   "source": [
    "sns.jointplot(x='Happiness Score', y='Number of Country', \n",
    "              data=df_for_sns_plot, kind='reg')"
   ]
  },
  {
   "cell_type": "markdown",
   "metadata": {},
   "source": [
    "#### Некоторые выводы:\n",
    "Чем меньше стран в регионе, тем выше уровень счастья.  \n",
    "- видимо со многими соседями сложнее договораиваться и уживаться.\n",
    "- единое образование, которое объединяет территории повышает уровень счастья"
   ]
  },
  {
   "cell_type": "code",
   "execution_count": null,
   "metadata": {},
   "outputs": [],
   "source": []
  }
 ],
 "metadata": {
  "kernelspec": {
   "display_name": "Python 3",
   "language": "python",
   "name": "python3"
  },
  "language_info": {
   "codemirror_mode": {
    "name": "ipython",
    "version": 3
   },
   "file_extension": ".py",
   "mimetype": "text/x-python",
   "name": "python",
   "nbconvert_exporter": "python",
   "pygments_lexer": "ipython3",
   "version": "3.7.3"
  }
 },
 "nbformat": 4,
 "nbformat_minor": 2
}
