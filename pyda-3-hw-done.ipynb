{
 "cells": [
  {
   "cell_type": "markdown",
   "metadata": {},
   "source": [
    "## Задание 1"
   ]
  },
  {
   "cell_type": "markdown",
   "metadata": {},
   "source": [
    "Дан список вида:"
   ]
  },
  {
   "cell_type": "markdown",
   "metadata": {},
   "source": [
    "Напишите функцию, которая возвращает сумму элементов на диагонали. Т. е. 13+32+23+35."
   ]
  },
  {
   "cell_type": "code",
   "execution_count": 43,
   "metadata": {},
   "outputs": [],
   "source": [
    "data = [\n",
    "    [13, 25, 23, 34],\n",
    "    [45, 32, 44, 47],\n",
    "    [12, 33, 23, 95],\n",
    "    [13, 53, 34, 35]\n",
    "]"
   ]
  },
  {
   "cell_type": "code",
   "execution_count": 44,
   "metadata": {},
   "outputs": [
    {
     "data": {
      "text/plain": [
       "103"
      ]
     },
     "execution_count": 44,
     "metadata": {},
     "output_type": "execute_result"
    }
   ],
   "source": [
    "def sum_line():\n",
    "    sums = 0\n",
    "    for i, number in enumerate(data):\n",
    "        sums += number[i]\n",
    "    return sums\n",
    "\n",
    "sum_line()\n"
   ]
  },
  {
   "cell_type": "markdown",
   "metadata": {},
   "source": [
    "## Задание 2"
   ]
  },
  {
   "cell_type": "markdown",
   "metadata": {},
   "source": [
    "Дан список чисел, часть из которых имеют строковый тип или содержат буквы. Напишите функцию, которая возвращает сумму квадратов элементов, которые могут быть числами."
   ]
  },
  {
   "cell_type": "code",
   "execution_count": 48,
   "metadata": {},
   "outputs": [],
   "source": [
    "data = [1, '5', 'abc', 20, '2']"
   ]
  },
  {
   "cell_type": "code",
   "execution_count": 54,
   "metadata": {},
   "outputs": [
    {
     "data": {
      "text/plain": [
       "430"
      ]
     },
     "execution_count": 54,
     "metadata": {},
     "output_type": "execute_result"
    }
   ],
   "source": [
    "def sum_int():\n",
    "    sums = 0\n",
    "    for i in range(len(data)):\n",
    "        if type(data[i]) == int:\n",
    "            sums += data[i] ** 2\n",
    "        else:\n",
    "            if data[i].isdigit():\n",
    "                sums += int(data[i]) ** 2\n",
    "    return sums\n",
    "\n",
    "sum_int()"
   ]
  },
  {
   "cell_type": "markdown",
   "metadata": {},
   "source": [
    "## Задание 3"
   ]
  },
  {
   "cell_type": "markdown",
   "metadata": {},
   "source": [
    "Напишите функцию, возвращающую сумму первых n чисел Фибоначчи."
   ]
  },
  {
   "cell_type": "code",
   "execution_count": null,
   "metadata": {},
   "outputs": [],
   "source": [
    "# Просто через функцию\n",
    "# 1, 1, 2, 3, 5, 8, 13, 21, ...\n",
    "\n",
    "def count_fib(n):\n",
    "    f1, f2, sums = 0, 1, 1\n",
    "    while n != 1:\n",
    "        f1, f2 = f2, f1 + f2\n",
    "        sums += f2\n",
    "        n -= 1\n",
    "    return sums\n",
    "\n",
    "n = int(input('Задайте n-ое число ряда Фибоначи: '))\n",
    "print(f'Сумма первых {n} чисел ряда Фибоначи = {count_fib(n)}')"
   ]
  },
  {
   "cell_type": "code",
   "execution_count": null,
   "metadata": {},
   "outputs": [],
   "source": [
    "#def factorial(n): return reduce(lambda x,y:x*y,[1]+range(1,n+1))\n",
    "\n",
    "#factorial(5)"
   ]
  },
  {
   "cell_type": "markdown",
   "metadata": {},
   "source": [
    "## Задание 4"
   ]
  },
  {
   "cell_type": "markdown",
   "metadata": {},
   "source": [
    "Дан набор данных об обучении студентов на курсе программирования, который содержит: \n",
    "1) имя\n",
    "2) фамилию \n",
    "3) пол \n",
    "4) наличие у студента опыта в программировании \n",
    "5) набор оценок за домашние работы \n",
    "6) оценку за итоговую работу.\n",
    "\n",
    "Напишите программу, которая будет принимать команду от пользователя и возвращать соотвествующий результат.\n",
    "Список команд: \n",
    "1 - вывести на экран среднюю оценку за все ДЗ по группе и вывести на экран среднюю оценку за экзамен по группе;\n",
    "2 - вывести среднюю оценку за ДЗ и за экзамен по группе в разрезе пола студентов\n",
    "3 - вывести среднюю оценку за ДЗ и за экзамен в разрезе наличия опыта в программировании у студентов.\n",
    "\n",
    "Прогрмма должна быть полностью декомпозирована на функции (кроме объявления функций и вызова итоговой функции в реализации ничего быть не должно)."
   ]
  },
  {
   "cell_type": "code",
   "execution_count": 34,
   "metadata": {},
   "outputs": [],
   "source": [
    "students_list = [\n",
    "    {'name': 'Василий', 'surname': 'Теркин', 'sex': 'м', 'program_exp': True, 'grade': [8, 8, 9, 10, 9], 'exam': 9},\n",
    "    {'name': 'Мария', 'surname': 'Павлова', 'sex': 'ж', 'program_exp': True, 'grade': [7, 8, 9, 7, 9], 'exam': 8},\n",
    "    {'name': 'Ирина', 'surname': 'Андреева', 'sex': 'ж', 'program_exp': True, 'grade': [10, 9, 8, 10, 10], 'exam': 10},\n",
    "    {'name': 'Татьяна', 'surname': 'Сидорова', 'sex': 'ж', 'program_exp': True, 'grade': [7, 8, 8, 9, 8], 'exam': 8},\n",
    "    {'name': 'Иван', 'surname': 'Васильев', 'sex': 'ж', 'program_exp': True, 'grade': [9, 8, 9, 6, 9], 'exam': 10},\n",
    "    {'name': 'Роман', 'surname': 'Золотарев', 'sex': 'ж', 'program_exp': False, 'grade': [8, 9, 9, 6, 9], 'exam': 10}\n",
    "]"
   ]
  },
  {
   "cell_type": "code",
   "execution_count": 35,
   "metadata": {},
   "outputs": [],
   "source": [
    "# 1 - вывести на экран среднюю оценку за все ДЗ по группе и вывести на экран среднюю оценку за экзамен по группе\n",
    "def avarage_marks():\n",
    "    sum_grade = 0\n",
    "    sum_exam = 0\n",
    "    for student in students_list:\n",
    "        sum_grade += sum(student['grade']) / len(student['grade'])\n",
    "        sum_exam += student['exam']\n",
    "    print(f'Средняя оценка за все ДЗ по группе - {round(sum_grade / len(students_list), 2)}')\n",
    "    print(f'Средняя оценка за экзамен по группе - {round(sum_exam / len(students_list), 2)}')"
   ]
  },
  {
   "cell_type": "code",
   "execution_count": 36,
   "metadata": {},
   "outputs": [],
   "source": [
    "# 2 - вывести среднюю оценку за ДЗ и за экзамен по группе в разрезе пола студентов\n",
    "def avarage_marks_sex():\n",
    "    sum_grade_m, sum_grade_f = 0, 0\n",
    "    sum_exam_m, sum_exam_f = 0, 0\n",
    "    count_m, count_f = 0, 0\n",
    "    for student in students_list:\n",
    "        if student['sex'] == 'м':\n",
    "            sum_grade_m += sum(student['grade']) / len(student['grade'])\n",
    "            sum_exam_m += student['exam']\n",
    "            count_m += 1\n",
    "        else:\n",
    "            sum_grade_f += sum(student['grade']) / len(student['grade'])\n",
    "            sum_exam_f += student['exam']\n",
    "            count_f += 1\n",
    "    print(f'Средняя оценка за все ДЗ по мужчинам - {round(sum_grade_m / count_m, 2)}')\n",
    "    print(f'Средняя оценка за экзамен по мужчинам - {round(sum_exam_m / count_m, 2)}')\n",
    "    print(f'Средняя оценка за все ДЗ по женщинам - {round(sum_grade_f / count_f, 2)}')\n",
    "    print(f'Средняя оценка за экзамен по женщинам - {round(sum_exam_f / count_f, 2)}')"
   ]
  },
  {
   "cell_type": "code",
   "execution_count": 37,
   "metadata": {},
   "outputs": [],
   "source": [
    "# 3 - вывести среднюю оценку за ДЗ и за экзамен в разрезе наличия опыта в программировании у студентов\n",
    "def avarage_marks_exp():\n",
    "    sum_grade_true, sum_grade_false = 0, 0\n",
    "    sum_exam_true, sum_exam_false = 0, 0\n",
    "    count_true, count_false = 0, 0\n",
    "    for student in students_list:\n",
    "        if student['program_exp'] == True:\n",
    "            sum_grade_true += sum(student['grade']) / len(student['grade'])\n",
    "            sum_exam_true += student['exam']\n",
    "            count_true += 1\n",
    "        else:\n",
    "            sum_grade_false += sum(student['grade']) / len(student['grade'])\n",
    "            sum_exam_false += student['exam']\n",
    "            count_false += 1\n",
    "    print(f'Средняя оценка за все ДЗ с опытом программирования - {round(sum_grade_true / count_true, 2)}')\n",
    "    print(f'Средняя оценка за экзамен с опытом программирования - {round(sum_exam_true / count_true, 2)}')\n",
    "    print(f'Средняя оценка за все ДЗ без опыта программирования - {round(sum_grade_false / count_false, 2)}')\n",
    "    print(f'Средняя оценка за экзамен без опыта программирования - {round(sum_exam_false / count_false, 2)}')"
   ]
  },
  {
   "cell_type": "code",
   "execution_count": 42,
   "metadata": {
    "scrolled": true
   },
   "outputs": [
    {
     "name": "stdout",
     "output_type": "stream",
     "text": [
      "Список команд:\n",
      "1 - вывести на экран среднюю оценку за все ДЗ по группе и вывести на экран среднюю оценку за экзамен по группе\n",
      "2 - вывести среднюю оценку за ДЗ и за экзамен по группе в разрезе пола студентов\n",
      "3 - вывести среднюю оценку за ДЗ и за экзамен в разрезе наличия опыта в программировании у студентов\n",
      "4 - выход\n",
      "Введите команду \n",
      "1\n",
      "Средняя оценка за все ДЗ по группе - 8.43\n",
      "Средняя оценка за экзамен по группе - 9.17\n",
      "Введите команду \n",
      "2\n",
      "Средняя оценка за все ДЗ по мужчинам - 8.8\n",
      "Средняя оценка за экзамен по мужчинам - 9.0\n",
      "Средняя оценка за все ДЗ по женщинам - 8.36\n",
      "Средняя оценка за экзамен по женщинам - 9.2\n",
      "Введите команду \n",
      "4\n",
      "Ok\n"
     ]
    }
   ],
   "source": [
    "def main():\n",
    "    print('Список команд:\\n'\n",
    "          '1 - вывести на экран среднюю оценку за все ДЗ по группе и вывести на экран среднюю оценку за экзамен по группе\\n'\n",
    "          '2 - вывести среднюю оценку за ДЗ и за экзамен по группе в разрезе пола студентов\\n'\n",
    "          '3 - вывести среднюю оценку за ДЗ и за экзамен в разрезе наличия опыта в программировании у студентов\\n'\n",
    "          '4 - выход')\n",
    "    while True:\n",
    "        choice = input('Введите команду \\n')\n",
    "        if choice == '1':\n",
    "            avarage_marks()\n",
    "        elif choice == '2':\n",
    "            avarage_marks_sex()\n",
    "        elif choice == '3':\n",
    "            avarage_marks_exp()\n",
    "        elif choice == '4':\n",
    "            print('Ok')\n",
    "            break\n",
    "\n",
    "main()\n"
   ]
  },
  {
   "cell_type": "code",
   "execution_count": null,
   "metadata": {},
   "outputs": [],
   "source": []
  },
  {
   "cell_type": "code",
   "execution_count": null,
   "metadata": {},
   "outputs": [],
   "source": []
  }
 ],
 "metadata": {
  "kernelspec": {
   "display_name": "Python 3",
   "language": "python",
   "name": "python3"
  },
  "language_info": {
   "codemirror_mode": {
    "name": "ipython",
    "version": 3
   },
   "file_extension": ".py",
   "mimetype": "text/x-python",
   "name": "python",
   "nbconvert_exporter": "python",
   "pygments_lexer": "ipython3",
   "version": "3.7.3"
  }
 },
 "nbformat": 4,
 "nbformat_minor": 2
}
