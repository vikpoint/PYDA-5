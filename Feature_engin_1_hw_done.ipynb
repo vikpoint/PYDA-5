{
 "cells": [
  {
   "cell_type": "code",
   "execution_count": 1,
   "metadata": {},
   "outputs": [],
   "source": [
    "import numpy as np\n",
    "import pandas as pd\n",
    "\n",
    "from sklearn.linear_model import LinearRegression\n",
    "from math import pi"
   ]
  },
  {
   "cell_type": "code",
   "execution_count": 16,
   "metadata": {},
   "outputs": [
    {
     "data": {
      "text/html": [
       "<div>\n",
       "<style scoped>\n",
       "    .dataframe tbody tr th:only-of-type {\n",
       "        vertical-align: middle;\n",
       "    }\n",
       "\n",
       "    .dataframe tbody tr th {\n",
       "        vertical-align: top;\n",
       "    }\n",
       "\n",
       "    .dataframe thead th {\n",
       "        text-align: right;\n",
       "    }\n",
       "</style>\n",
       "<table border=\"1\" class=\"dataframe\">\n",
       "  <thead>\n",
       "    <tr style=\"text-align: right;\">\n",
       "      <th></th>\n",
       "      <th>radius</th>\n",
       "      <th>circumference</th>\n",
       "      <th>sq_circle</th>\n",
       "    </tr>\n",
       "  </thead>\n",
       "  <tbody>\n",
       "    <tr>\n",
       "      <th>0</th>\n",
       "      <td>25</td>\n",
       "      <td>157.079633</td>\n",
       "      <td>1963.495408</td>\n",
       "    </tr>\n",
       "    <tr>\n",
       "      <th>1</th>\n",
       "      <td>44</td>\n",
       "      <td>276.460154</td>\n",
       "      <td>6082.123377</td>\n",
       "    </tr>\n",
       "    <tr>\n",
       "      <th>2</th>\n",
       "      <td>40</td>\n",
       "      <td>251.327412</td>\n",
       "      <td>5026.548246</td>\n",
       "    </tr>\n",
       "    <tr>\n",
       "      <th>3</th>\n",
       "      <td>36</td>\n",
       "      <td>226.194671</td>\n",
       "      <td>4071.504079</td>\n",
       "    </tr>\n",
       "    <tr>\n",
       "      <th>4</th>\n",
       "      <td>32</td>\n",
       "      <td>201.061930</td>\n",
       "      <td>3216.990877</td>\n",
       "    </tr>\n",
       "  </tbody>\n",
       "</table>\n",
       "</div>"
      ],
      "text/plain": [
       "   radius  circumference    sq_circle\n",
       "0      25     157.079633  1963.495408\n",
       "1      44     276.460154  6082.123377\n",
       "2      40     251.327412  5026.548246\n",
       "3      36     226.194671  4071.504079\n",
       "4      32     201.061930  3216.990877"
      ]
     },
     "execution_count": 16,
     "metadata": {},
     "output_type": "execute_result"
    }
   ],
   "source": [
    "# Создаём сэмпл\n",
    "n_samples = 300\n",
    "\n",
    "radius = np.random.choice(50, n_samples)\n",
    "#circumference = np.random.choice(100, n_samples)\n",
    "#sq_circle = np.random.choice(100, n_samples)\n",
    "\n",
    "circumference = 2 * pi * radius\n",
    "sq_circle =  pi * radius ** 2\n",
    "\n",
    "data = pd.DataFrame({'radius': radius, 'circumference': circumference, 'sq_circle': sq_circle})\n",
    "data.head(5)"
   ]
  },
  {
   "cell_type": "code",
   "execution_count": 17,
   "metadata": {},
   "outputs": [
    {
     "name": "stdout",
     "output_type": "stream",
     "text": [
      "Weights: [ 3.68273673 23.13931731]\n",
      "Bias: -1122.9772854124153\n",
      "Error: 488.31514299890097\n"
     ]
    }
   ],
   "source": [
    "from sklearn.metrics import mean_absolute_error\n",
    "\n",
    "X = data[['radius', 'circumference']]\n",
    "y = data['sq_circle']\n",
    "reg = LinearRegression().fit(X, y)\n",
    "print('Weights: {}'.format(reg.coef_))\n",
    "print('Bias: {}'.format(reg.intercept_))\n",
    "\n",
    "pred_values = reg.predict(data[['radius', 'circumference']])\n",
    "print('Error: {}'.format(mean_absolute_error(pred_values, y)))"
   ]
  },
  {
   "cell_type": "markdown",
   "metadata": {},
   "source": [
    "**Вывод:** предсказание площади по длине окружности и радиусу не дает хороших результатов"
   ]
  },
  {
   "cell_type": "code",
   "execution_count": 18,
   "metadata": {},
   "outputs": [],
   "source": [
    "#X = data[['length', 'width']]\n",
    "#y = data['price']\n",
    "#reg = LinearRegression().fit(X, y)\n",
    "#print('Weights: {}'.format(reg.coef_))\n",
    "#print('Bias: {}'.format(reg.intercept_))\n",
    "#\n",
    "#pred_values = reg.predict(data[['length', 'width']])\n",
    "#print('Error: {}'.format(mean_absolute_error(pred_values, y)))"
   ]
  },
  {
   "cell_type": "code",
   "execution_count": 20,
   "metadata": {},
   "outputs": [
    {
     "data": {
      "text/html": [
       "<div>\n",
       "<style scoped>\n",
       "    .dataframe tbody tr th:only-of-type {\n",
       "        vertical-align: middle;\n",
       "    }\n",
       "\n",
       "    .dataframe tbody tr th {\n",
       "        vertical-align: top;\n",
       "    }\n",
       "\n",
       "    .dataframe thead th {\n",
       "        text-align: right;\n",
       "    }\n",
       "</style>\n",
       "<table border=\"1\" class=\"dataframe\">\n",
       "  <thead>\n",
       "    <tr style=\"text-align: right;\">\n",
       "      <th></th>\n",
       "      <th>radius</th>\n",
       "      <th>circumference</th>\n",
       "      <th>sq_circle</th>\n",
       "      <th>mult</th>\n",
       "    </tr>\n",
       "  </thead>\n",
       "  <tbody>\n",
       "    <tr>\n",
       "      <th>0</th>\n",
       "      <td>25</td>\n",
       "      <td>157.079633</td>\n",
       "      <td>1963.495408</td>\n",
       "      <td>3926.990817</td>\n",
       "    </tr>\n",
       "    <tr>\n",
       "      <th>1</th>\n",
       "      <td>44</td>\n",
       "      <td>276.460154</td>\n",
       "      <td>6082.123377</td>\n",
       "      <td>12164.246755</td>\n",
       "    </tr>\n",
       "    <tr>\n",
       "      <th>2</th>\n",
       "      <td>40</td>\n",
       "      <td>251.327412</td>\n",
       "      <td>5026.548246</td>\n",
       "      <td>10053.096491</td>\n",
       "    </tr>\n",
       "    <tr>\n",
       "      <th>3</th>\n",
       "      <td>36</td>\n",
       "      <td>226.194671</td>\n",
       "      <td>4071.504079</td>\n",
       "      <td>8143.008158</td>\n",
       "    </tr>\n",
       "    <tr>\n",
       "      <th>4</th>\n",
       "      <td>32</td>\n",
       "      <td>201.061930</td>\n",
       "      <td>3216.990877</td>\n",
       "      <td>6433.981755</td>\n",
       "    </tr>\n",
       "  </tbody>\n",
       "</table>\n",
       "</div>"
      ],
      "text/plain": [
       "   radius  circumference    sq_circle          mult\n",
       "0      25     157.079633  1963.495408   3926.990817\n",
       "1      44     276.460154  6082.123377  12164.246755\n",
       "2      40     251.327412  5026.548246  10053.096491\n",
       "3      36     226.194671  4071.504079   8143.008158\n",
       "4      32     201.061930  3216.990877   6433.981755"
      ]
     },
     "execution_count": 20,
     "metadata": {},
     "output_type": "execute_result"
    }
   ],
   "source": [
    "# Создаем новый признак\n",
    "data['mult'] = data['radius'] * data['circumference'] #при этом данный признак не является прямой формулой площади\n",
    "data.head(5)"
   ]
  },
  {
   "cell_type": "code",
   "execution_count": 22,
   "metadata": {},
   "outputs": [
    {
     "name": "stdout",
     "output_type": "stream",
     "text": [
      "Weights: [0.5]\n",
      "Bias: 9.094947017729282e-13\n",
      "Error: 8.171596732609032e-13\n"
     ]
    }
   ],
   "source": [
    "X = data[['mult']]\n",
    "y = data['sq_circle']\n",
    "reg = LinearRegression().fit(X, y)\n",
    "print('Weights: {}'.format(reg.coef_))\n",
    "print('Bias: {}'.format(reg.intercept_))\n",
    "\n",
    "pred_values = reg.predict(data[['mult']])\n",
    "print('Error: {}'.format(mean_absolute_error(pred_values, y)))"
   ]
  },
  {
   "cell_type": "markdown",
   "metadata": {},
   "source": [
    "**Вывод:** мы видим, что получилось всё хорошо, только надо разделить на два "
   ]
  },
  {
   "cell_type": "code",
   "execution_count": null,
   "metadata": {},
   "outputs": [],
   "source": []
  }
 ],
 "metadata": {
  "kernelspec": {
   "display_name": "Python 3",
   "language": "python",
   "name": "python3"
  },
  "language_info": {
   "codemirror_mode": {
    "name": "ipython",
    "version": 3
   },
   "file_extension": ".py",
   "mimetype": "text/x-python",
   "name": "python",
   "nbconvert_exporter": "python",
   "pygments_lexer": "ipython3",
   "version": "3.7.3"
  }
 },
 "nbformat": 4,
 "nbformat_minor": 2
}
