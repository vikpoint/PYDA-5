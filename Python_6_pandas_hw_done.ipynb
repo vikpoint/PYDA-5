{
 "cells": [
  {
   "cell_type": "markdown",
   "metadata": {},
   "source": [
    "# Основы pandas"
   ]
  },
  {
   "cell_type": "markdown",
   "metadata": {},
   "source": [
    "## Задание 1\n",
    "Скачайте с сайта https://grouplens.org/datasets/movielens/ датасет любого размера. Определите какому фильму было выставлено больше всего оценок 5.0.\n"
   ]
  },
  {
   "cell_type": "code",
   "execution_count": 1,
   "metadata": {},
   "outputs": [],
   "source": [
    "import pandas as pd"
   ]
  },
  {
   "cell_type": "code",
   "execution_count": 72,
   "metadata": {},
   "outputs": [
    {
     "data": {
      "text/plain": [
       "Shawshank Redemption, The (1994)    153\n",
       "Name: title, dtype: int64"
      ]
     },
     "execution_count": 72,
     "metadata": {},
     "output_type": "execute_result"
    }
   ],
   "source": [
    "ratings = pd.read_csv(r'C:\\Users\\PC-Home\\Desktop\\Data_analyst\\HW-6\\ml-latest-small\\ratings.csv')\n",
    "movies = pd.read_csv(r'C:\\Users\\PC-Home\\Desktop\\Data_analyst\\HW-6\\ml-latest-small\\movies.csv')\n",
    "\n",
    "joined = ratings.merge(movies, on='movieId', how='left')\n",
    "\n",
    "best_mark = joined[joined['rating'] == 5]\n",
    "best_mark['title'].value_counts().head(1)"
   ]
  },
  {
   "cell_type": "code",
   "execution_count": 73,
   "metadata": {
    "scrolled": true
   },
   "outputs": [
    {
     "data": {
      "text/html": [
       "<div>\n",
       "<style scoped>\n",
       "    .dataframe tbody tr th:only-of-type {\n",
       "        vertical-align: middle;\n",
       "    }\n",
       "\n",
       "    .dataframe tbody tr th {\n",
       "        vertical-align: top;\n",
       "    }\n",
       "\n",
       "    .dataframe thead th {\n",
       "        text-align: right;\n",
       "    }\n",
       "</style>\n",
       "<table border=\"1\" class=\"dataframe\">\n",
       "  <thead>\n",
       "    <tr style=\"text-align: right;\">\n",
       "      <th></th>\n",
       "      <th>userId</th>\n",
       "      <th>movieId</th>\n",
       "      <th>rating</th>\n",
       "      <th>timestamp</th>\n",
       "      <th>genres</th>\n",
       "    </tr>\n",
       "    <tr>\n",
       "      <th>title</th>\n",
       "      <th></th>\n",
       "      <th></th>\n",
       "      <th></th>\n",
       "      <th></th>\n",
       "      <th></th>\n",
       "    </tr>\n",
       "  </thead>\n",
       "  <tbody>\n",
       "    <tr>\n",
       "      <th>Shawshank Redemption, The (1994)</th>\n",
       "      <td>153</td>\n",
       "      <td>153</td>\n",
       "      <td>153</td>\n",
       "      <td>153</td>\n",
       "      <td>153</td>\n",
       "    </tr>\n",
       "  </tbody>\n",
       "</table>\n",
       "</div>"
      ],
      "text/plain": [
       "                                  userId  movieId  rating  timestamp  genres\n",
       "title                                                                       \n",
       "Shawshank Redemption, The (1994)     153      153     153        153     153"
      ]
     },
     "execution_count": 73,
     "metadata": {},
     "output_type": "execute_result"
    }
   ],
   "source": [
    "ratings = pd.read_csv(r'C:\\Users\\PC-Home\\Desktop\\Data_analyst\\HW-6\\ml-latest-small\\ratings.csv')\n",
    "movies = pd.read_csv(r'C:\\Users\\PC-Home\\Desktop\\Data_analyst\\HW-6\\ml-latest-small\\movies.csv')\n",
    "\n",
    "joined = ratings.merge(movies, on='movieId', how='left')\n",
    "\n",
    "joined.query('rating == 5').groupby('title').count().sort_values('userId', ascending=False).head(1)"
   ]
  },
  {
   "cell_type": "markdown",
   "metadata": {},
   "source": [
    "## Задание 2\n",
    "По данным файла power.csv посчитайте суммарное потребление стран Прибалтики (Латвия, Литва и Эстония) категорий 4, 12 и 21 за период с 2005 по 2010 года. Не учитывайте в расчетах отрицательные значения quantity."
   ]
  },
  {
   "cell_type": "code",
   "execution_count": 4,
   "metadata": {},
   "outputs": [
    {
     "data": {
      "text/plain": [
       "970728.0"
      ]
     },
     "execution_count": 4,
     "metadata": {},
     "output_type": "execute_result"
    }
   ],
   "source": [
    "data = pd.read_csv(r'C:\\Users\\PC-Home\\Desktop\\Data_analyst\\HW-6\\power.csv')\n",
    "\n",
    "filtered = data[ ( \n",
    "    (data['country']=='Estonia') | \n",
    "    (data['country']=='Latvia') | \n",
    "    (data['country']=='Lithuania')\n",
    "    ) & (\n",
    "    (data['category'] == 4) |\n",
    "    (data['category'] == 12) |\n",
    "    (data['category'] == 21)\n",
    "    ) & (\n",
    "    (data['year'] >= 2005) |\n",
    "    (data['year'] <= 2010)\n",
    "    ) ]\n",
    "\n",
    "filtered.query('quantity > 0')['quantity'].sum()"
   ]
  },
  {
   "cell_type": "markdown",
   "metadata": {},
   "source": [
    "## Задание 3\n",
    "Выберите страницу любого сайта с табличными данными. Импортируйте таблицы в pandas dataframe. Примеры страниц (необязательно брать именно эти): \n",
    "https://fortrader.org/quotes\n",
    "https://www.finanz.ru/valyuty/v-realnom-vremeni"
   ]
  },
  {
   "cell_type": "code",
   "execution_count": 58,
   "metadata": {},
   "outputs": [
    {
     "data": {
      "text/html": [
       "<div>\n",
       "<style scoped>\n",
       "    .dataframe tbody tr th:only-of-type {\n",
       "        vertical-align: middle;\n",
       "    }\n",
       "\n",
       "    .dataframe tbody tr th {\n",
       "        vertical-align: top;\n",
       "    }\n",
       "\n",
       "    .dataframe thead th {\n",
       "        text-align: right;\n",
       "    }\n",
       "</style>\n",
       "<table border=\"1\" class=\"dataframe\">\n",
       "  <thead>\n",
       "    <tr style=\"text-align: right;\">\n",
       "      <th></th>\n",
       "      <th>0</th>\n",
       "      <th>1</th>\n",
       "    </tr>\n",
       "  </thead>\n",
       "  <tbody>\n",
       "    <tr>\n",
       "      <th>0</th>\n",
       "      <td>Год</td>\n",
       "      <td>Значение, %</td>\n",
       "    </tr>\n",
       "    <tr>\n",
       "      <th>1</th>\n",
       "      <td>NaN</td>\n",
       "      <td>NaN</td>\n",
       "    </tr>\n",
       "    <tr>\n",
       "      <th>2</th>\n",
       "      <td>2004</td>\n",
       "      <td>13.00</td>\n",
       "    </tr>\n",
       "    <tr>\n",
       "      <th>3</th>\n",
       "      <td>2005</td>\n",
       "      <td>12.00 (13.00 → 12.00)</td>\n",
       "    </tr>\n",
       "    <tr>\n",
       "      <th>4</th>\n",
       "      <td>2006</td>\n",
       "      <td>11.00 (12.0 → 11.5 → 11.0)</td>\n",
       "    </tr>\n",
       "    <tr>\n",
       "      <th>5</th>\n",
       "      <td>2007</td>\n",
       "      <td>10.00 (11.00 → 10.5 → 10.00)</td>\n",
       "    </tr>\n",
       "    <tr>\n",
       "      <th>6</th>\n",
       "      <td>2008</td>\n",
       "      <td>13.0 (10.00 → 10.25 → 10.5 → 11.0 → 12.0 → 13.00)</td>\n",
       "    </tr>\n",
       "    <tr>\n",
       "      <th>7</th>\n",
       "      <td>2009</td>\n",
       "      <td>8.75 (13.0 → 12.5 → 12 → 11.5 → 11 → 10.75 → 1...</td>\n",
       "    </tr>\n",
       "    <tr>\n",
       "      <th>8</th>\n",
       "      <td>2010</td>\n",
       "      <td>8.25 (8.75 → 8.5 → 8.75 → 8.25)</td>\n",
       "    </tr>\n",
       "    <tr>\n",
       "      <th>9</th>\n",
       "      <td>2011</td>\n",
       "      <td>8.00 (8.25 → 8.0 → 7.75 → 8.0)</td>\n",
       "    </tr>\n",
       "    <tr>\n",
       "      <th>10</th>\n",
       "      <td>2012</td>\n",
       "      <td>8.25 (8.00 → 8.25)</td>\n",
       "    </tr>\n",
       "    <tr>\n",
       "      <th>11</th>\n",
       "      <td>2013</td>\n",
       "      <td>8.25</td>\n",
       "    </tr>\n",
       "    <tr>\n",
       "      <th>12</th>\n",
       "      <td>2014</td>\n",
       "      <td>17.0 (8.25 → 9.5 → 10.5 → 17.00)</td>\n",
       "    </tr>\n",
       "    <tr>\n",
       "      <th>13</th>\n",
       "      <td>2015</td>\n",
       "      <td>10.5 (17.0 → 15.0 → 14.0 → 11.5 → 11.0 → 10.5)</td>\n",
       "    </tr>\n",
       "    <tr>\n",
       "      <th>14</th>\n",
       "      <td>2016</td>\n",
       "      <td>10.0 (10.5 → 10.0)</td>\n",
       "    </tr>\n",
       "    <tr>\n",
       "      <th>15</th>\n",
       "      <td>2017</td>\n",
       "      <td>7.5 (10.0 → 9.75 → 9.25 → 9.00 → 8.50 → 8.25 →...</td>\n",
       "    </tr>\n",
       "    <tr>\n",
       "      <th>16</th>\n",
       "      <td>2018</td>\n",
       "      <td>7.75 (7.5 → 7.25 → 7.5 → 7.75)</td>\n",
       "    </tr>\n",
       "    <tr>\n",
       "      <th>17</th>\n",
       "      <td>2019</td>\n",
       "      <td>7.25 (7.75 → 7.5 → 7.25)</td>\n",
       "    </tr>\n",
       "  </tbody>\n",
       "</table>\n",
       "</div>"
      ],
      "text/plain": [
       "       0                                                  1\n",
       "0    Год                                        Значение, %\n",
       "1    NaN                                                NaN\n",
       "2   2004                                              13.00\n",
       "3   2005                              12.00 (13.00 → 12.00)\n",
       "4   2006                         11.00 (12.0 → 11.5 → 11.0)\n",
       "5   2007                       10.00 (11.00 → 10.5 → 10.00)\n",
       "6   2008  13.0 (10.00 → 10.25 → 10.5 → 11.0 → 12.0 → 13.00)\n",
       "7   2009  8.75 (13.0 → 12.5 → 12 → 11.5 → 11 → 10.75 → 1...\n",
       "8   2010                    8.25 (8.75 → 8.5 → 8.75 → 8.25)\n",
       "9   2011                     8.00 (8.25 → 8.0 → 7.75 → 8.0)\n",
       "10  2012                                 8.25 (8.00 → 8.25)\n",
       "11  2013                                               8.25\n",
       "12  2014                   17.0 (8.25 → 9.5 → 10.5 → 17.00)\n",
       "13  2015     10.5 (17.0 → 15.0 → 14.0 → 11.5 → 11.0 → 10.5)\n",
       "14  2016                                 10.0 (10.5 → 10.0)\n",
       "15  2017  7.5 (10.0 → 9.75 → 9.25 → 9.00 → 8.50 → 8.25 →...\n",
       "16  2018                     7.75 (7.5 → 7.25 → 7.5 → 7.75)\n",
       "17  2019                           7.25 (7.75 → 7.5 → 7.25)"
      ]
     },
     "execution_count": 58,
     "metadata": {},
     "output_type": "execute_result"
    }
   ],
   "source": [
    "pd.read_html('https://www.semestr.ru/ks11114')[0]"
   ]
  }
 ],
 "metadata": {
  "kernelspec": {
   "display_name": "Python 3",
   "language": "python",
   "name": "python3"
  },
  "language_info": {
   "codemirror_mode": {
    "name": "ipython",
    "version": 3
   },
   "file_extension": ".py",
   "mimetype": "text/x-python",
   "name": "python",
   "nbconvert_exporter": "python",
   "pygments_lexer": "ipython3",
   "version": "3.7.3"
  }
 },
 "nbformat": 4,
 "nbformat_minor": 2
}
